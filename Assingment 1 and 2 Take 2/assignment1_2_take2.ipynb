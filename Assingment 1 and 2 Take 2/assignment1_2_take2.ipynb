{
 "cells": [
  {
   "cell_type": "code",
   "execution_count": 1,
   "id": "f87e6411",
   "metadata": {},
   "outputs": [],
   "source": [
    "import pandas as pd\n",
    "import numpy as np\n",
    "import matplotlib.pyplot as plt\n",
    "df = pd.read_csv('https://raw.githubusercontent.com/alaaamir/Machine-Learning/main/Assingment%201%20and%202%20Take%202/house_prices_data_training_data.csv')\n",
    "df.describe()\n",
    "df.dropna(inplace=True)\n",
    "df.drop(columns=['id', 'date'],inplace=True)\n",
    "df = df.convert_dtypes() \n",
    "df.apply(pd.to_numeric).dtypes\n",
    "df = df.astype(float)"
   ]
  },
  {
   "cell_type": "code",
   "execution_count": 2,
   "id": "b2248c3f",
   "metadata": {},
   "outputs": [
    {
     "data": {
      "text/html": [
       "<div>\n",
       "<style scoped>\n",
       "    .dataframe tbody tr th:only-of-type {\n",
       "        vertical-align: middle;\n",
       "    }\n",
       "\n",
       "    .dataframe tbody tr th {\n",
       "        vertical-align: top;\n",
       "    }\n",
       "\n",
       "    .dataframe thead th {\n",
       "        text-align: right;\n",
       "    }\n",
       "</style>\n",
       "<table border=\"1\" class=\"dataframe\">\n",
       "  <thead>\n",
       "    <tr style=\"text-align: right;\">\n",
       "      <th></th>\n",
       "      <th>price</th>\n",
       "      <th>bedrooms</th>\n",
       "      <th>bathrooms</th>\n",
       "      <th>sqft_living</th>\n",
       "      <th>sqft_lot</th>\n",
       "      <th>floors</th>\n",
       "      <th>waterfront</th>\n",
       "      <th>view</th>\n",
       "      <th>condition</th>\n",
       "      <th>grade</th>\n",
       "      <th>sqft_above</th>\n",
       "      <th>sqft_basement</th>\n",
       "      <th>yr_built</th>\n",
       "      <th>yr_renovated</th>\n",
       "      <th>zipcode</th>\n",
       "      <th>lat</th>\n",
       "      <th>long</th>\n",
       "      <th>sqft_living15</th>\n",
       "      <th>sqft_lot15</th>\n",
       "    </tr>\n",
       "  </thead>\n",
       "  <tbody>\n",
       "    <tr>\n",
       "      <th>0</th>\n",
       "      <td>221900.0</td>\n",
       "      <td>3.0</td>\n",
       "      <td>1.00</td>\n",
       "      <td>1180.0</td>\n",
       "      <td>5650.0</td>\n",
       "      <td>1.0</td>\n",
       "      <td>0.0</td>\n",
       "      <td>0.0</td>\n",
       "      <td>3.0</td>\n",
       "      <td>7.0</td>\n",
       "      <td>1180.0</td>\n",
       "      <td>0.0</td>\n",
       "      <td>1955.0</td>\n",
       "      <td>0.0</td>\n",
       "      <td>98178.0</td>\n",
       "      <td>47.5112</td>\n",
       "      <td>-122.257</td>\n",
       "      <td>1340.0</td>\n",
       "      <td>5650.0</td>\n",
       "    </tr>\n",
       "    <tr>\n",
       "      <th>1</th>\n",
       "      <td>538000.0</td>\n",
       "      <td>3.0</td>\n",
       "      <td>2.25</td>\n",
       "      <td>2570.0</td>\n",
       "      <td>7242.0</td>\n",
       "      <td>2.0</td>\n",
       "      <td>0.0</td>\n",
       "      <td>0.0</td>\n",
       "      <td>3.0</td>\n",
       "      <td>7.0</td>\n",
       "      <td>2170.0</td>\n",
       "      <td>400.0</td>\n",
       "      <td>1951.0</td>\n",
       "      <td>1991.0</td>\n",
       "      <td>98125.0</td>\n",
       "      <td>47.7210</td>\n",
       "      <td>-122.319</td>\n",
       "      <td>1690.0</td>\n",
       "      <td>7639.0</td>\n",
       "    </tr>\n",
       "    <tr>\n",
       "      <th>2</th>\n",
       "      <td>180000.0</td>\n",
       "      <td>2.0</td>\n",
       "      <td>1.00</td>\n",
       "      <td>770.0</td>\n",
       "      <td>10000.0</td>\n",
       "      <td>1.0</td>\n",
       "      <td>0.0</td>\n",
       "      <td>0.0</td>\n",
       "      <td>3.0</td>\n",
       "      <td>6.0</td>\n",
       "      <td>770.0</td>\n",
       "      <td>0.0</td>\n",
       "      <td>1933.0</td>\n",
       "      <td>0.0</td>\n",
       "      <td>98028.0</td>\n",
       "      <td>47.7379</td>\n",
       "      <td>-122.233</td>\n",
       "      <td>2720.0</td>\n",
       "      <td>8062.0</td>\n",
       "    </tr>\n",
       "    <tr>\n",
       "      <th>3</th>\n",
       "      <td>604000.0</td>\n",
       "      <td>4.0</td>\n",
       "      <td>3.00</td>\n",
       "      <td>1960.0</td>\n",
       "      <td>5000.0</td>\n",
       "      <td>1.0</td>\n",
       "      <td>0.0</td>\n",
       "      <td>0.0</td>\n",
       "      <td>5.0</td>\n",
       "      <td>7.0</td>\n",
       "      <td>1050.0</td>\n",
       "      <td>910.0</td>\n",
       "      <td>1965.0</td>\n",
       "      <td>0.0</td>\n",
       "      <td>98136.0</td>\n",
       "      <td>47.5208</td>\n",
       "      <td>-122.393</td>\n",
       "      <td>1360.0</td>\n",
       "      <td>5000.0</td>\n",
       "    </tr>\n",
       "    <tr>\n",
       "      <th>4</th>\n",
       "      <td>510000.0</td>\n",
       "      <td>3.0</td>\n",
       "      <td>2.00</td>\n",
       "      <td>1680.0</td>\n",
       "      <td>8080.0</td>\n",
       "      <td>1.0</td>\n",
       "      <td>0.0</td>\n",
       "      <td>0.0</td>\n",
       "      <td>3.0</td>\n",
       "      <td>8.0</td>\n",
       "      <td>1680.0</td>\n",
       "      <td>0.0</td>\n",
       "      <td>1987.0</td>\n",
       "      <td>0.0</td>\n",
       "      <td>98074.0</td>\n",
       "      <td>47.6168</td>\n",
       "      <td>-122.045</td>\n",
       "      <td>1800.0</td>\n",
       "      <td>7503.0</td>\n",
       "    </tr>\n",
       "  </tbody>\n",
       "</table>\n",
       "</div>"
      ],
      "text/plain": [
       "      price  bedrooms  bathrooms  sqft_living  sqft_lot  floors  waterfront  \\\n",
       "0  221900.0       3.0       1.00       1180.0    5650.0     1.0         0.0   \n",
       "1  538000.0       3.0       2.25       2570.0    7242.0     2.0         0.0   \n",
       "2  180000.0       2.0       1.00        770.0   10000.0     1.0         0.0   \n",
       "3  604000.0       4.0       3.00       1960.0    5000.0     1.0         0.0   \n",
       "4  510000.0       3.0       2.00       1680.0    8080.0     1.0         0.0   \n",
       "\n",
       "   view  condition  grade  sqft_above  sqft_basement  yr_built  yr_renovated  \\\n",
       "0   0.0        3.0    7.0      1180.0            0.0    1955.0           0.0   \n",
       "1   0.0        3.0    7.0      2170.0          400.0    1951.0        1991.0   \n",
       "2   0.0        3.0    6.0       770.0            0.0    1933.0           0.0   \n",
       "3   0.0        5.0    7.0      1050.0          910.0    1965.0           0.0   \n",
       "4   0.0        3.0    8.0      1680.0            0.0    1987.0           0.0   \n",
       "\n",
       "   zipcode      lat     long  sqft_living15  sqft_lot15  \n",
       "0  98178.0  47.5112 -122.257         1340.0      5650.0  \n",
       "1  98125.0  47.7210 -122.319         1690.0      7639.0  \n",
       "2  98028.0  47.7379 -122.233         2720.0      8062.0  \n",
       "3  98136.0  47.5208 -122.393         1360.0      5000.0  \n",
       "4  98074.0  47.6168 -122.045         1800.0      7503.0  "
      ]
     },
     "execution_count": 2,
     "metadata": {},
     "output_type": "execute_result"
    }
   ],
   "source": [
    "df.head(5)"
   ]
  },
  {
   "cell_type": "code",
   "execution_count": 3,
   "id": "94051ae5",
   "metadata": {},
   "outputs": [],
   "source": [
    "def feature_normalize(X, mean=np.zeros(1), std=np.zeros(1)):\n",
    "    X = np.array(X)\n",
    "    if len(mean.shape) == 1 or len(std.shape) == 1:\n",
    "        mean = np.mean(X, axis=0)\n",
    "        std = np.std(X, axis=0, ddof=1)\n",
    "\n",
    "\n",
    "    X = (X - mean)/std\n",
    "    return X, mean, std"
   ]
  },
  {
   "cell_type": "code",
   "execution_count": 4,
   "id": "5ddc9f04",
   "metadata": {},
   "outputs": [
    {
     "name": "stdout",
     "output_type": "stream",
     "text": [
      "Calculated Mean: [ 5.33074250e+05  3.36296461e+00  2.06160064e+00  2.05182232e+03\n",
      "  1.57587327e+04  1.43316295e+00  7.83376854e-03  2.42457914e-01\n",
      "  3.44852492e+00  7.59236624e+00  1.74974232e+03  3.02080004e+02\n",
      "  1.96728235e+03  9.02535141e+01  9.80780698e+04  4.75602109e+01\n",
      " -1.22215112e+02  1.97323674e+03  1.32822707e+04]\n",
      "Calculated Standard Deviation: [3.64412151e+05 9.34032388e-01 7.58632316e-01 9.02744154e+02\n",
      " 4.24551425e+04 5.09662990e-01 8.81636686e-02 7.78856958e-01\n",
      " 6.67039405e-01 1.16949482e+00 8.05427363e+02 4.49443008e+02\n",
      " 2.79403058e+01 4.14717703e+02 5.41249245e+01 1.39644240e-01\n",
      " 1.39135290e-01 6.73186870e+02 2.73524150e+04]\n"
     ]
    }
   ],
   "source": [
    "\n",
    "X_norm, meann, sigma = feature_normalize(df)\n",
    "print('Calculated Mean:', meann)\n",
    "print('Calculated Standard Deviation:', sigma)\n"
   ]
  },
  {
   "cell_type": "code",
   "execution_count": 5,
   "id": "4c326b1b",
   "metadata": {},
   "outputs": [],
   "source": [
    "def compute_cost(X, y, theta):\n",
    "    m = y.shape[0]\n",
    "    h = X.dot(theta)\n",
    "    J = (1/(2*m)) * ((h-y).T.dot(h-y))\n",
    "    return J"
   ]
  },
  {
   "cell_type": "code",
   "execution_count": 6,
   "id": "a781965d",
   "metadata": {},
   "outputs": [],
   "source": [
    "def gradient_descent(X, y, theta, alpha, num_iters):\n",
    "    m = y.shape[0] \n",
    "    J_history = np.zeros(shape=(num_iters, 1))\n",
    "\n",
    "    for i in range(0, num_iters):\n",
    "        h = X.dot(theta)\n",
    "        diff_hy = h - y\n",
    "\n",
    "        delta = (1/m) * (diff_hy.T.dot(X))\n",
    "        theta = theta - (alpha * delta.T)\n",
    "        J_history[i] = compute_cost(X, y, theta)\n",
    "\n",
    "    return theta, J_history"
   ]
  },
  {
   "cell_type": "code",
   "execution_count": 7,
   "id": "dcf404c9",
   "metadata": {},
   "outputs": [],
   "source": [
    "m = df.shape[0]\n",
    "X = np.hstack((np.ones((m,1)),X_norm))\n",
    "\n",
    "y = np.array(df.iloc[:, 2].astype(float).values).reshape(-1,1)\n",
    "\n",
    "theta = np.zeros(shape=(X.shape[1],1))"
   ]
  },
  {
   "cell_type": "code",
   "execution_count": 8,
   "id": "055af7e8",
   "metadata": {},
   "outputs": [
    {
     "data": {
      "text/plain": [
       "(17999, 20)"
      ]
     },
     "execution_count": 8,
     "metadata": {},
     "output_type": "execute_result"
    }
   ],
   "source": [
    "alpha = [0.3, 0.1, 0.03, 0.01]\n",
    "colors = ['b','r','g','c']\n",
    "num_iters = 50\n",
    "X.shape"
   ]
  },
  {
   "cell_type": "code",
   "execution_count": 9,
   "id": "71b6c295",
   "metadata": {},
   "outputs": [
    {
     "data": {
      "image/png": "[encoded data removed]",
      "text/plain": [
       "<Figure size 432x288 with 1 Axes>"
      ]
     },
     "metadata": {
      "needs_background": "light"
     },
     "output_type": "display_data"
    }
   ],
   "source": [
    "for i in range(0, len(alpha)):\n",
    "    theta = np.zeros(shape=(X.shape[1],1))\n",
    "    theta, J_history = gradient_descent(X, y, theta, alpha[i], num_iters)\n",
    "    plt.plot(range(len(J_history)), J_history, colors[i], label='Alpha {}'.format(alpha[i]))\n",
    "plt.xlabel('Number of iterations');\n",
    "plt.ylabel('Cost J');\n",
    "plt.title('Selecting learning rates');\n",
    "plt.legend()\n",
    "plt.show()"
   ]
  },
  {
   "cell_type": "code",
   "execution_count": 12,
   "id": "1e3b1cca",
   "metadata": {},
   "outputs": [
    {
     "name": "stdout",
     "output_type": "stream",
     "text": [
      "Thetas from Gradient Descent:\n",
      "[[ 2.06160064e+00]\n",
      " [ 3.01676559e-09]\n",
      " [ 1.35329599e-10]\n",
      " [ 7.58632313e-01]\n",
      " [ 1.50182628e-09]\n",
      " [ 1.97207992e-10]\n",
      " [ 4.56046594e-10]\n",
      " [-6.88944939e-10]\n",
      " [-9.56494152e-11]\n",
      " [ 5.05310602e-10]\n",
      " [-5.22597033e-09]\n",
      " [ 1.38450380e-09]\n",
      " [ 5.35435418e-10]\n",
      " [ 3.80573535e-09]\n",
      " [ 7.38976182e-10]\n",
      " [ 2.95098961e-10]\n",
      " [-1.18872648e-10]\n",
      " [-9.82052051e-10]\n",
      " [ 8.75010306e-10]\n",
      " [-2.83254430e-10]]\n"
     ]
    }
   ],
   "source": [
    "loops = 300\n",
    "alpha = 0.2\n",
    "theta, _ = gradient_descent(X, y, theta, alpha, loops)\n",
    "\n",
    "print('Thetas from Gradient Descent:')\n",
    "print(theta)"
   ]
  },
  {
   "cell_type": "code",
   "execution_count": 14,
   "id": "f3c9db8d",
   "metadata": {},
   "outputs": [
    {
     "name": "stdout",
     "output_type": "stream",
     "text": [
      "Price of a 1650 ft^2 House with 3 bedrooms:\n"
     ]
    },
    {
     "data": {
      "text/plain": [
       "874.4887798251718"
      ]
     },
     "execution_count": 14,
     "metadata": {},
     "output_type": "execute_result"
    }
   ],
   "source": [
    "bedrooms = (5, - meann[0]/sigma[0])\n",
    "bathrooms = (3, - meann[1]/sigma[1])\n",
    "sqft_living = (1150, meann[2]/sigma[2])\n",
    "sqft_lot = (7450, meann[3]/sigma[3])\n",
    "floors = (2, meann[4]/sigma[4])\n",
    "waterfront = (0, meann[5]/sigma[5])\n",
    "view = (2, meann[6]/sigma[6])\n",
    "condition = (2, meann[7]/sigma[7])\n",
    "grade = (10, meann[8]/sigma[8])\n",
    "sqft_above = (2000, meann[9]/sigma[9])\n",
    "sqft_basement = (430, meann[10]/sigma[10])\n",
    "yr_built = (2009, meann[11]/sigma[11])\n",
    "yr_renovated = (1000, meann[12]/sigma[12])\n",
    "zipcode = (9813, meann[13]/sigma[13])\n",
    "lat = (47.6370, meann[14]/sigma[14])\n",
    "long_ = (-122.250, meann[15]/sigma[15])\n",
    "sqft_living15 = (1410, meann[16]/sigma[16])\n",
    "sqft_lot15 = (8750, meann[17]/sigma[17])\n",
    "\n",
    "y_prediction = theta[0] + theta[1]*bedrooms + theta[2]*bathrooms + theta[3]*sqft_living + theta[4]*sqft_lot + theta[5]*floors + theta[6]*waterfront + theta[7]*view + theta[8]*condition + theta[9]*grade + theta[10]*sqft_above + theta[11]*sqft_basement + theta[12]*yr_built + theta[13]*yr_renovated + theta[14]*zipcode + theta[15]*lat + theta[16]*long_ + theta[17]*sqft_living15 + theta[18]*sqft_lot15\n",
    "print(\"Price of a 1650 ft^2 House with 3 bedrooms:\")\n",
    "y_prediction[0]"
   ]
  },
  {
   "cell_type": "code",
   "execution_count": null,
   "id": "7f5de291",
   "metadata": {},
   "outputs": [],
   "source": []
  }
 ],
 "metadata": {
  "kernelspec": {
   "display_name": "Python 3",
   "language": "python",
   "name": "python3"
  },
  "language_info": {
   "codemirror_mode": {
    "name": "ipython",
    "version": 3
   },
   "file_extension": ".py",
   "mimetype": "text/x-python",
   "name": "python",
   "nbconvert_exporter": "python",
   "pygments_lexer": "ipython3",
   "version": "3.8.8"
  }
 },
 "nbformat": 4,
 "nbformat_minor": 5
}
